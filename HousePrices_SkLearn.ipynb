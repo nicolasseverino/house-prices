{
 "cells": [
  {
   "cell_type": "markdown",
   "metadata": {},
   "source": [
    "# <center>HOUSE PRICES</center>\n",
    "\n",
    "<img src='https://storage.googleapis.com/kaggle-competitions/kaggle/5407/logos/front_page.png'>"
   ]
  },
  {
   "cell_type": "code",
   "execution_count": null,
   "metadata": {
    "_cell_guid": "5021f6b8-c179-3908-3822-cb840a4deacd"
   },
   "outputs": [],
   "source": [
    "import numpy as np\n",
    "import pandas as pd\n",
    "import sklearn\n",
    "import sklearn.preprocessing as pp\n",
    "import sklearn.model_selection as ms\n",
    "import sklearn.metrics as metrics\n",
    "import json"
   ]
  },
  {
   "cell_type": "markdown",
   "metadata": {
    "_cell_guid": "75575cc4-6b01-2a68-2aad-7fd9db1fff7b"
   },
   "source": [
    "## Load Data Sets"
   ]
  },
  {
   "cell_type": "code",
   "execution_count": null,
   "metadata": {
    "_cell_guid": "23029d03-1a41-d6ff-605e-37d7ff53743a"
   },
   "outputs": [],
   "source": [
    "df = pd.read_csv('train.csv')\n",
    "df = df.set_index('Id')\n",
    "\n",
    "test_df = pd.read_csv('test.csv')\n",
    "test_df = test_df.set_index('Id')\n",
    "df.head()"
   ]
  },
  {
   "cell_type": "code",
   "execution_count": null,
   "metadata": {
    "_cell_guid": "6d55d70d-025c-09da-7a5a-4f0e69a99793"
   },
   "outputs": [],
   "source": [
    "price = df.SalePrice\n",
    "print(\"Average sale price: \" + \"${:,.0f}\".format(price.mean()))"
   ]
  },
  {
   "cell_type": "markdown",
   "metadata": {
    "_cell_guid": "7d2157b4-f430-0c56-6414-df38af6b4e3d"
   },
   "source": [
    "## Merge test and train sets for preprocessing"
   ]
  },
  {
   "cell_type": "code",
   "execution_count": null,
   "metadata": {
    "_cell_guid": "0b860228-276b-1e12-a366-2cbeecf3d63d"
   },
   "outputs": [],
   "source": [
    "df = df.drop('SalePrice', axis=1)\n",
    "all_df = df.append(test_df)\n",
    "all_df.shape"
   ]
  },
  {
   "cell_type": "markdown",
   "metadata": {
    "_cell_guid": "e9d69d02-bf02-1505-341d-8c6f40234472"
   },
   "source": [
    "### Split categorical and numeric features\n",
    "* Numeric features will be normalized\n",
    "* Categorical features will be expanded and not normalized"
   ]
  },
  {
   "cell_type": "code",
   "execution_count": null,
   "metadata": {
    "_cell_guid": "c1046c95-f513-c333-3197-b1819c826744"
   },
   "outputs": [],
   "source": [
    "all_features = 'MSSubClass,MSZoning,LotFrontage,LotArea,Street,Alley,LotShape,LandContour,Utilities,LotConfig,LandSlope,Neighborhood,Condition1,Condition2,BldgType,HouseStyle,OverallQual,OverallCond,YearBuilt,YearRemodAdd,RoofStyle,RoofMatl,Exterior1st,Exterior2nd,MasVnrType,MasVnrArea,ExterQual,ExterCond,Foundation,BsmtQual,BsmtCond,BsmtExposure,BsmtFinType1,BsmtFinSF1,BsmtFinType2,BsmtFinSF2,BsmtUnfSF,TotalBsmtSF,Heating,HeatingQC,CentralAir,Electrical,1stFlrSF,2ndFlrSF,LowQualFinSF,GrLivArea,BsmtFullBath,BsmtHalfBath,FullBath,HalfBath,BedroomAbvGr,KitchenAbvGr,KitchenQual,TotRmsAbvGrd,Functional,Fireplaces,FireplaceQu,GarageType,GarageYrBlt,GarageFinish,GarageCars,GarageArea,GarageQual,GarageCond,PavedDrive,WoodDeckSF,OpenPorchSF,EnclosedPorch,3SsnPorch,ScreenPorch,PoolArea,PoolQC,Fence,MiscFeature,MiscVal,MoSold,YrSold,SaleType,SaleCondition'.split(',')\n",
    "numeric_features = ['LotFrontage', 'LotArea', 'MasVnrArea', 'BsmtFinSF1', 'BsmtFinSF2', 'BsmtUnfSF','LowQualFinSF','GrLivArea','BsmtFullBath','BsmtHalfBath','FullBath','HalfBath','BedroomAbvGr','KitchenAbvGr','TotRmsAbvGrd','TotalBsmtSF','Fireplaces', 'GarageCars', 'GarageArea','WoodDeckSF', 'OpenPorchSF', 'EnclosedPorch', '3SsnPorch', 'ScreenPorch', 'PoolArea', 'MiscVal']\n",
    "categorical_features = [f for f in all_features if not(f in numeric_features)]\n",
    "\n",
    "(len(all_features), len(categorical_features), len(numeric_features))"
   ]
  },
  {
   "cell_type": "code",
   "execution_count": null,
   "metadata": {
    "_cell_guid": "e1e324aa-3b3f-0b97-43e7-de03196bd372"
   },
   "outputs": [],
   "source": [
    "numeric_df = all_df[numeric_features]\n",
    "numeric_df.shape"
   ]
  },
  {
   "cell_type": "markdown",
   "metadata": {
    "_cell_guid": "e0285465-af91-1a5d-473c-125fab739928"
   },
   "source": [
    "### Missing values\n",
    "Only impute for numeric variables, categorical will have a NA column"
   ]
  },
  {
   "cell_type": "code",
   "execution_count": null,
   "metadata": {
    "_cell_guid": "dfe231bc-dfc4-2914-61fa-bcffb297abbc"
   },
   "outputs": [],
   "source": [
    "X = numeric_df.as_matrix()\n",
    "\n",
    "imp = pp.Imputer(missing_values='NaN', strategy='most_frequent', axis=0)\n",
    "imp = imp.fit(X)\n",
    "X = imp.transform(X)\n",
    "X.shape"
   ]
  },
  {
   "cell_type": "markdown",
   "metadata": {
    "_cell_guid": "c37cc3a2-ffc1-4e59-22c3-8a5e0d48bb41"
   },
   "source": [
    "### Normalization & scale\n",
    "Normalize numeric values"
   ]
  },
  {
   "cell_type": "code",
   "execution_count": null,
   "metadata": {
    "_cell_guid": "713c4c71-2a2b-08bc-85b6-2ad3a90c7021"
   },
   "outputs": [],
   "source": [
    "scaler = pp.StandardScaler()\n",
    "scaler.fit(X)\n",
    "X = scaler.transform(X)\n",
    "X[0, :]"
   ]
  },
  {
   "cell_type": "markdown",
   "metadata": {
    "_cell_guid": "190c2ebe-389d-0468-ed4e-f0669abc451a"
   },
   "source": [
    "### Expand categorical into columns\n",
    "Goal here is to expand all of them and then doing PCA to reduce noise."
   ]
  },
  {
   "cell_type": "code",
   "execution_count": null,
   "metadata": {
    "_cell_guid": "f838344f-e610-9073-30ec-716fe7ce464b"
   },
   "outputs": [],
   "source": [
    "def process_categorical(ndf, df, categorical_features):\n",
    "    for f in categorical_features:\n",
    "        new_cols = pd.DataFrame(pd.get_dummies(df[f]))\n",
    "        new_cols.index = df.index\n",
    "        ndf = pd.merge(ndf, new_cols, how = 'inner', left_index=True, right_index=True)\n",
    "    return ndf\n",
    "\n",
    "numeric_df = pd.DataFrame(X)\n",
    "numeric_df.index = all_df.index\n",
    "combined_df = process_categorical(numeric_df, all_df, categorical_features)\n",
    "combined_df.head()"
   ]
  },
  {
   "cell_type": "code",
   "execution_count": null,
   "metadata": {
    "_cell_guid": "a18118c9-f45c-648c-d221-58924efd4204"
   },
   "outputs": [],
   "source": [
    "X = combined_df.as_matrix()\n",
    "X.shape"
   ]
  },
  {
   "cell_type": "markdown",
   "metadata": {
    "_cell_guid": "0b2adc63-bc64-6188-035e-51d3b30048f3"
   },
   "source": [
    "### PCA"
   ]
  },
  {
   "cell_type": "code",
   "execution_count": null,
   "metadata": {
    "_cell_guid": "2355fe24-f63c-42f8-740b-b3c4d9946a23"
   },
   "outputs": [],
   "source": [
    "#PCA\n",
    "from sklearn.decomposition import PCA\n",
    "\n",
    "test_n = df.shape[0]\n",
    "\n",
    "pca = PCA()\n",
    "pca.fit(X[:test_n,:], price)\n",
    "X = pca.transform(X)\n",
    "X.shape"
   ]
  },
  {
   "cell_type": "markdown",
   "metadata": {
    "_cell_guid": "3147c5ac-2a96-6b11-880c-56c98a0199a4"
   },
   "source": [
    "### Split again Datasets into new Train and Test sets\n",
    "Split train and test that were combined to handle preprocessing"
   ]
  },
  {
   "cell_type": "code",
   "execution_count": null,
   "metadata": {
    "_cell_guid": "591efe47-5bc3-0312-56f2-7febb2a9914f"
   },
   "outputs": [],
   "source": [
    "X_train = X[:test_n,:]\n",
    "X_train, X_val, y_train, y_val = ms.train_test_split(X_train, price, test_size=0.3, random_state=0)\n",
    "X_test = X[test_n:,:]\n",
    "\n",
    "(X_train.shape, X_val.shape, X_test.shape)"
   ]
  },
  {
   "cell_type": "markdown",
   "metadata": {},
   "source": [
    "## Model"
   ]
  },
  {
   "cell_type": "markdown",
   "metadata": {
    "_cell_guid": "2b00335d-897b-45b0-9cab-9103a17fc882"
   },
   "source": [
    "### Linear Regression Model"
   ]
  },
  {
   "cell_type": "code",
   "execution_count": null,
   "metadata": {
    "_cell_guid": "c17f8b5e-f978-5a16-53ae-c5133d33e645"
   },
   "outputs": [],
   "source": [
    "from sklearn import linear_model\n",
    "\n",
    "lr = linear_model.LinearRegression()\n",
    "lr.fit(X_train, y_train)"
   ]
  },
  {
   "cell_type": "code",
   "execution_count": null,
   "metadata": {
    "_cell_guid": "f77fa886-e171-efbc-36b1-3e48e2119bdb"
   },
   "outputs": [],
   "source": [
    "def print_score(alg, score, params):\n",
    "    print('%s score is %f with params %s' % (alg, score, json.dumps(params)))"
   ]
  },
  {
   "cell_type": "markdown",
   "metadata": {
    "_cell_guid": "7f6b5245-d243-4a14-4c5c-cb678f9f4e2a"
   },
   "source": [
    "### Gradient Boosting"
   ]
  },
  {
   "cell_type": "code",
   "execution_count": null,
   "metadata": {
    "_cell_guid": "849d40d2-1285-c78a-475e-0dbc9d283422"
   },
   "outputs": [],
   "source": [
    "import xgboost as xgb\n",
    "\n",
    "params = {'eval_metric':'rmse'}\n",
    "xm = xgb.DMatrix(X_train, label=y_train)\n",
    "xmodel = xgb.train(params, xm)\n",
    "xg_y_pred = xmodel.predict(xgb.DMatrix(X_val))"
   ]
  },
  {
   "cell_type": "markdown",
   "metadata": {
    "_cell_guid": "30696dbf-a14a-b163-3b3b-adce4b3f7d2b"
   },
   "source": [
    "### Scoring"
   ]
  },
  {
   "cell_type": "code",
   "execution_count": null,
   "metadata": {
    "_cell_guid": "e36b3594-19fd-f6ff-841e-08f0c094fa42"
   },
   "outputs": [],
   "source": [
    "print('XGBoost score is %f' % metrics.r2_score(y_val, xg_y_pred))\n",
    "print('Linear Regression score is %f' % lr.score(X_val, y_val))"
   ]
  },
  {
   "cell_type": "code",
   "execution_count": null,
   "metadata": {
    "_cell_guid": "4724aebb-08a8-92ed-cd14-1f87f4440fcd"
   },
   "outputs": [],
   "source": [
    "from sklearn.metrics import mean_squared_error\n",
    "\n",
    "y_val_pred = best.predict(X_val)\n",
    "mse = mean_squared_error(y_val, y_val_pred)\n",
    "print('ridge mean squared error is %s' % \\\n",
    "      '{:,.2f}'.format(mse))\n",
    "\n",
    "bmse = mean_squared_error(y_val, xg_y_pred)\n",
    "print('xgboost mean squared error is %s' % \\\n",
    "      '{:,.2f}'.format(bmse))"
   ]
  },
  {
   "cell_type": "code",
   "execution_count": null,
   "metadata": {
    "_cell_guid": "74654e12-344a-e3d8-69f1-2759c040e599"
   },
   "outputs": [],
   "source": [
    "def rmsle(y, y_):\n",
    "    log1 = np.nan_to_num(np.array([np.log(v + 1) for v in y]))\n",
    "    log2 = np.nan_to_num(np.array([np.log(v + 1) for v in y_]))\n",
    "    calc = (log1 - log2) ** 2\n",
    "    return np.sqrt(np.mean(calc))\n",
    "\n",
    "print(\"XGBoost RMSLE is %f\" % rmsle(xg_y_pred, y_val))"
   ]
  },
  {
   "cell_type": "markdown",
   "metadata": {
    "_cell_guid": "b83d08f9-6639-201c-3b20-ebe93b508ae4"
   },
   "source": [
    "## Vizualisation (Predicted vs Actual)"
   ]
  },
  {
   "cell_type": "markdown",
   "metadata": {
    "_cell_guid": "e707efee-0307-46af-ebc5-81098c62e2a4"
   },
   "source": [
    "### XGBoost"
   ]
  },
  {
   "cell_type": "code",
   "execution_count": null,
   "metadata": {
    "_cell_guid": "5618cd5e-3c06-3803-6362-70eea4a614f9"
   },
   "outputs": [],
   "source": [
    "fig, ax = plt.subplots()\n",
    "\n",
    "ax.plot(y_val, xg_y_pred, 'b.')\n",
    "ax.plot([y_val.min(), y_val.max()], [y_val.min(), y_val.max()], 'k--')\n",
    "ax.set_xlabel('Measured')\n",
    "ax.set_ylabel('Predicted')\n",
    "ax.set_title('XGBoost')\n",
    "plt.show()"
   ]
  },
  {
   "cell_type": "markdown",
   "metadata": {
    "_cell_guid": "b7198da9-463d-8466-dad9-e95195ebfe18"
   },
   "source": [
    "## Write Submission Files"
   ]
  },
  {
   "cell_type": "code",
   "execution_count": null,
   "metadata": {
    "_cell_guid": "b9792ad8-b63e-eee2-650a-0d60ba72329c"
   },
   "outputs": [],
   "source": [
    "best.fit(X[:test_n, :], price)\n",
    "y_submit = best.predict(X_test)\n",
    "y_submit[y_submit < 0] = 1.\n",
    "test_df['SalePrice'] = y_submit\n",
    "test_df.to_csv('submission.csv', columns = ['SalePrice'])\n",
    "\n",
    "xmodel = xgb.train(params, xgb.DMatrix(X[:test_n, :], label=price))\n",
    "y_submit = xmodel.predict(xgb.DMatrix(X_test))\n",
    "y_submit[y_submit < 0] = 1.\n",
    "test_df['SalePrice'] = y_submit\n",
    "test_df.to_csv('xg_submission.csv', columns = ['SalePrice'])"
   ]
  }
 ],
 "metadata": {
  "_change_revision": 2,
  "_is_fork": false,
  "kernelspec": {
   "display_name": "Python 3",
   "language": "python",
   "name": "python3"
  },
  "language_info": {
   "codemirror_mode": {
    "name": "ipython",
    "version": 3
   },
   "file_extension": ".py",
   "mimetype": "text/x-python",
   "name": "python",
   "nbconvert_exporter": "python",
   "pygments_lexer": "ipython3",
   "version": "3.7.4"
  }
 },
 "nbformat": 4,
 "nbformat_minor": 1
}
